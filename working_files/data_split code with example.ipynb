{
 "cells": [
  {
   "cell_type": "code",
   "execution_count": 1,
   "metadata": {},
   "outputs": [],
   "source": [
    "import findspark\n",
    "findspark.init()\n",
    "import pyspark\n",
    "from pyspark.sql import SparkSession\n",
    "spark = SparkSession.builder.getOrCreate()"
   ]
  },
  {
   "cell_type": "code",
   "execution_count": 2,
   "metadata": {},
   "outputs": [
    {
     "data": {
      "text/plain": [
       "2513835"
      ]
     },
     "execution_count": 2,
     "metadata": {},
     "output_type": "execute_result"
    }
   ],
   "source": [
    "df = spark.read \\\n",
    "    .csv('Documents/final-project-team-deep-coral/down_id5000_.csv')\n",
    "df = df.toDF('user_id', 'book_id', 'is_read', 'rating', 'is_reviewed')\n",
    "df.count()"
   ]
  },
  {
   "cell_type": "code",
   "execution_count": 3,
   "metadata": {},
   "outputs": [
    {
     "data": {
      "text/plain": [
       "4995"
      ]
     },
     "execution_count": 3,
     "metadata": {},
     "output_type": "execute_result"
    }
   ],
   "source": [
    "user_list = df.select(\"user_id\").distinct()\n",
    "user_list.count()"
   ]
  },
  {
   "cell_type": "code",
   "execution_count": 4,
   "metadata": {},
   "outputs": [],
   "source": [
    "user_train, user_valid, user_test = user_list.randomSplit([0.6, 0.2, 0.2], seed = 42)"
   ]
  },
  {
   "cell_type": "code",
   "execution_count": 5,
   "metadata": {},
   "outputs": [
    {
     "data": {
      "text/plain": [
       "(2964, 1000, 1031)"
      ]
     },
     "execution_count": 5,
     "metadata": {},
     "output_type": "execute_result"
    }
   ],
   "source": [
    "user_train.count(), user_valid.count(), user_test.count()"
   ]
  },
  {
   "cell_type": "code",
   "execution_count": 6,
   "metadata": {},
   "outputs": [
    {
     "data": {
      "text/plain": [
       "1523935"
      ]
     },
     "execution_count": 6,
     "metadata": {},
     "output_type": "execute_result"
    }
   ],
   "source": [
    "df.createOrReplaceTempView('df')\n",
    "user_train.createOrReplaceTempView('user_train')\n",
    "X_train = spark.sql('SELECT * FROM df WHERE user_id IN (SELECT user_id FROM user_train)')\n",
    "X_train.count()"
   ]
  },
  {
   "cell_type": "code",
   "execution_count": 7,
   "metadata": {},
   "outputs": [
    {
     "name": "stdout",
     "output_type": "stream",
     "text": [
      "+-------+--------------+\n",
      "|user_id|count(book_id)|\n",
      "+-------+--------------+\n",
      "|   2294|           173|\n",
      "|   1090|           565|\n",
      "|    467|           129|\n",
      "|   3650|          1415|\n",
      "|   2464|           280|\n",
      "|   3858|           370|\n",
      "|   4975|           209|\n",
      "|   2393|           236|\n",
      "|   4127|           313|\n",
      "|   3200|          1196|\n",
      "+-------+--------------+\n",
      "only showing top 10 rows\n",
      "\n"
     ]
    }
   ],
   "source": [
    "user_valid.createOrReplaceTempView('user_valid')\n",
    "X_valid = spark.sql('SELECT * FROM df WHERE user_id IN (SELECT user_id FROM user_valid)')\n",
    "X_valid.groupby(['user_id'])\\\n",
    "    .agg({'book_id': 'count'})\\\n",
    "    .show(10)"
   ]
  },
  {
   "cell_type": "code",
   "execution_count": 8,
   "metadata": {},
   "outputs": [
    {
     "name": "stdout",
     "output_type": "stream",
     "text": [
      "+-------+--------------+\n",
      "|user_id|count(book_id)|\n",
      "+-------+--------------+\n",
      "|   2294|            93|\n",
      "|   1090|           285|\n",
      "|    467|            64|\n",
      "|   3650|           703|\n",
      "|   2464|           132|\n",
      "|   3858|           197|\n",
      "|   4975|           110|\n",
      "|   2393|           136|\n",
      "|   4127|           163|\n",
      "|   3200|           631|\n",
      "+-------+--------------+\n",
      "only showing top 10 rows\n",
      "\n"
     ]
    }
   ],
   "source": [
    "X_valid_sampled = X_valid.sampleBy(\"user_id\", fractions={k['user_id']: 0.5 for k in user_valid.rdd.collect()}, seed=42)\n",
    "X_valid_sampled.groupby(['user_id'])\\\n",
    "    .agg({'book_id': 'count'})\\\n",
    "    .show(10)"
   ]
  },
  {
   "cell_type": "code",
   "execution_count": 11,
   "metadata": {},
   "outputs": [
    {
     "name": "stdout",
     "output_type": "stream",
     "text": [
      "+-------+--------------+\n",
      "|user_id|count(book_id)|\n",
      "+-------+--------------+\n",
      "|   1090|           280|\n",
      "|    467|            65|\n",
      "|   2294|            80|\n",
      "|   2464|           148|\n",
      "|   3650|           712|\n",
      "|   3858|           173|\n",
      "|   4975|            99|\n",
      "|   2393|           100|\n",
      "|   4127|           150|\n",
      "|   2530|            68|\n",
      "+-------+--------------+\n",
      "only showing top 10 rows\n",
      "\n"
     ]
    }
   ],
   "source": [
    "# X_valid.createOrReplaceTempView('X_valid')\n",
    "# X_valid_sampled.createOrReplaceTempView('X_valid_sampled')\n",
    "# X_valid_to_train = spark.sql('SELECT * FROM X_valid WHERE book_id NOT IN (SELECT book_id FROM X_valid_sampled)')\n",
    "X_valid_to_train = X_valid.subtract(X_valid_sampled)\n",
    "X_valid_to_train.groupby(['user_id'])\\\n",
    "    .agg({'book_id': 'count'})\\\n",
    "    .show(10)"
   ]
  },
  {
   "cell_type": "code",
   "execution_count": 12,
   "metadata": {},
   "outputs": [
    {
     "name": "stdout",
     "output_type": "stream",
     "text": [
      "+-------+--------------+\n",
      "|user_id|count(book_id)|\n",
      "+-------+--------------+\n",
      "|   1159|           376|\n",
      "|   3414|           408|\n",
      "|   1436|           148|\n",
      "|   1512|           279|\n",
      "|   4032|           237|\n",
      "|   3441|           102|\n",
      "|    944|           442|\n",
      "|   1394|           325|\n",
      "|   2275|           279|\n",
      "|   4838|           616|\n",
      "+-------+--------------+\n",
      "only showing top 10 rows\n",
      "\n"
     ]
    }
   ],
   "source": [
    "user_test.createOrReplaceTempView('user_test')\n",
    "X_test = spark.sql('SELECT * FROM df WHERE user_id IN (SELECT user_id FROM user_test)')\n",
    "X_test.groupby(['user_id'])\\\n",
    "    .agg({'book_id': 'count'})\\\n",
    "    .show(10)"
   ]
  },
  {
   "cell_type": "code",
   "execution_count": 13,
   "metadata": {},
   "outputs": [
    {
     "name": "stdout",
     "output_type": "stream",
     "text": [
      "+-------+--------------+\n",
      "|user_id|count(book_id)|\n",
      "+-------+--------------+\n",
      "|   1159|           202|\n",
      "|   3414|           214|\n",
      "|   1436|            76|\n",
      "|   1512|           137|\n",
      "|   4032|           114|\n",
      "|   3441|            48|\n",
      "|    944|           219|\n",
      "|   1394|           157|\n",
      "|   2275|           135|\n",
      "|   4838|           287|\n",
      "+-------+--------------+\n",
      "only showing top 10 rows\n",
      "\n"
     ]
    }
   ],
   "source": [
    "X_test_sampled = X_test.sampleBy(\"user_id\", fractions={k['user_id']: 0.5 for k in user_test.rdd.collect()}, seed=42)\n",
    "X_test_sampled.groupby(['user_id'])\\\n",
    "    .agg({'book_id': 'count'})\\\n",
    "    .show(10)"
   ]
  },
  {
   "cell_type": "code",
   "execution_count": 14,
   "metadata": {},
   "outputs": [
    {
     "name": "stdout",
     "output_type": "stream",
     "text": [
      "+-------+--------------+\n",
      "|user_id|count(book_id)|\n",
      "+-------+--------------+\n",
      "|   1159|           174|\n",
      "|   1512|           142|\n",
      "|   1436|            72|\n",
      "|   3414|           194|\n",
      "|   4032|           123|\n",
      "|   4838|           329|\n",
      "|   1394|           168|\n",
      "|   3441|            54|\n",
      "|   2275|           144|\n",
      "|    944|           223|\n",
      "+-------+--------------+\n",
      "only showing top 10 rows\n",
      "\n"
     ]
    }
   ],
   "source": [
    "X_test_to_train = X_test.subtract(X_test_sampled)\n",
    "X_test_to_train.groupby(['user_id'])\\\n",
    "    .agg({'book_id': 'count'})\\\n",
    "    .show(10)"
   ]
  },
  {
   "cell_type": "code",
   "execution_count": 15,
   "metadata": {},
   "outputs": [],
   "source": [
    "def data_split(spark, file_path):\n",
    "    \"\"\"\n",
    "    This function splits a dataframe into the train/valid/test set.\n",
    "    \n",
    "    - train: randomly sample 60% of users and include all of their interactions\n",
    "                + 50% of interactions from users in the valid set\n",
    "    - valid: randomly sample 20% of users and include 50% of their interactions\n",
    "    - test : randomly sample 20% of users and include 50% of their interactions\n",
    "    \n",
    "    Random sampling of users and interactions results in mutually exclusive splits.\n",
    "\n",
    "    Parameters\n",
    "    ----------\n",
    "    spark : spark session object\n",
    "    file_path : string; The path (in HDFS) to the CSV file, e.g., `hdfs:/user/bm106/pub/people_small.csv`\n",
    "\n",
    "    \"\"\"\n",
    "    # Load the CSV file and Set the column name in case it's missing\n",
    "    df = spark.read.csv(file_path)\n",
    "    df = df.toDF('user_id', 'book_id', 'is_read', 'rating', 'is_reviewed')  \n",
    "    \n",
    "    # Create a single-column dataframe with distinct user_ids and Randomly split into train/valid/test user groups\n",
    "    user_list = df.select(\"user_id\").distinct()\n",
    "    user_train, user_valid, user_test = user_list.randomSplit([0.6, 0.2, 0.2], seed = 42)\n",
    "    \n",
    "    # Create X_train\n",
    "    df.createOrReplaceTempView('df')\n",
    "    user_train.createOrReplaceTempView('user_train')\n",
    "    X_train = spark.sql('SELECT * FROM df WHERE user_id IN (SELECT user_id FROM user_train)')\n",
    "    \n",
    "    # Create X_valid\n",
    "    user_valid.createOrReplaceTempView('user_valid')\n",
    "    X_valid = spark.sql('SELECT * FROM df WHERE user_id IN (SELECT user_id FROM user_valid)')\n",
    "    X_valid_sampled = X_valid.sampleBy(\"user_id\", fractions={k['user_id']: 0.5 for k in user_valid.rdd.collect()}, seed=42)\n",
    "    X_valid_to_train = X_valid.subtract(X_valid_sampled)  # This dataframe will be concatenated with X_train\n",
    "    \n",
    "    # Create X_test\n",
    "    user_test.createOrReplaceTempView('user_test')\n",
    "    X_test = spark.sql('SELECT * FROM df WHERE user_id IN (SELECT user_id FROM user_test)')\n",
    "    X_test_sampled = X_test.sampleBy(\"user_id\", fractions={k['user_id']: 0.5 for k in user_test.rdd.collect()}, seed=42)\n",
    "    X_test_to_train = X_test.subtract(X_test_sampled)\n",
    "    \n",
    "    # Concatenate remaining records of valid/test to X_train\n",
    "    X_train = X_train.union(X_valid_to_train)\n",
    "    X_train = X_train.union(X_test_to_train)\n",
    "    \n",
    "    return X_train, X_valid_sampled, X_test_sampled"
   ]
  },
  {
   "cell_type": "code",
   "execution_count": 16,
   "metadata": {},
   "outputs": [],
   "source": [
    "a, b, c = data_split(spark, 'Documents/final-project-team-deep-coral/down_id5000_.csv')"
   ]
  },
  {
   "cell_type": "code",
   "execution_count": 18,
   "metadata": {},
   "outputs": [
    {
     "data": {
      "text/plain": [
       "2018797"
      ]
     },
     "execution_count": 18,
     "metadata": {},
     "output_type": "execute_result"
    }
   ],
   "source": [
    "a.count()"
   ]
  },
  {
   "cell_type": "code",
   "execution_count": 19,
   "metadata": {},
   "outputs": [
    {
     "data": {
      "text/plain": [
       "244539"
      ]
     },
     "execution_count": 19,
     "metadata": {},
     "output_type": "execute_result"
    }
   ],
   "source": [
    "b.count()"
   ]
  },
  {
   "cell_type": "code",
   "execution_count": 20,
   "metadata": {},
   "outputs": [
    {
     "data": {
      "text/plain": [
       "250499"
      ]
     },
     "execution_count": 20,
     "metadata": {},
     "output_type": "execute_result"
    }
   ],
   "source": [
    "c.count()"
   ]
  },
  {
   "cell_type": "code",
   "execution_count": 23,
   "metadata": {},
   "outputs": [
    {
     "data": {
      "text/plain": [
       "True"
      ]
     },
     "execution_count": 23,
     "metadata": {},
     "output_type": "execute_result"
    }
   ],
   "source": [
    "2018797+244539+250499 == 2513835"
   ]
  }
 ],
 "metadata": {
  "kernelspec": {
   "display_name": "Python 3",
   "language": "python",
   "name": "python3"
  },
  "language_info": {
   "codemirror_mode": {
    "name": "ipython",
    "version": 3
   },
   "file_extension": ".py",
   "mimetype": "text/x-python",
   "name": "python",
   "nbconvert_exporter": "python",
   "pygments_lexer": "ipython3",
   "version": "3.7.3"
  }
 },
 "nbformat": 4,
 "nbformat_minor": 2
}
